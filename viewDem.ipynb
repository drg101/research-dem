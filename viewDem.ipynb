{
 "cells": [
  {
   "cell_type": "code",
   "execution_count": 1,
   "id": "d42c1e79",
   "metadata": {},
   "outputs": [],
   "source": [
    "import rioxarray\n",
    "import numpy as np"
   ]
  },
  {
   "cell_type": "code",
   "execution_count": 2,
   "id": "34010614",
   "metadata": {},
   "outputs": [],
   "source": [
    "xds = rioxarray.open_rasterio(\"./dems/larimerAreaDEM.tif\")"
   ]
  },
  {
   "cell_type": "code",
   "execution_count": 3,
   "id": "ab3ff040",
   "metadata": {},
   "outputs": [],
   "source": [
    "xds_wgs = xds.rio.reproject(\"wgs84\")"
   ]
  },
  {
   "cell_type": "code",
   "execution_count": 4,
   "id": "fed4f379",
   "metadata": {},
   "outputs": [
    {
     "data": {
      "text/plain": [
       "(-106.00055555555541, 39.99944444471632, -104.99944444471632, 41.0005555555554)"
      ]
     },
     "execution_count": 4,
     "metadata": {},
     "output_type": "execute_result"
    }
   ],
   "source": [
    "xds_wgs.rio.bounds()"
   ]
  },
  {
   "cell_type": "code",
   "execution_count": 5,
   "id": "c9a0d6fa",
   "metadata": {},
   "outputs": [],
   "source": [
    "elevMap = xds_wgs.isel()[0].values"
   ]
  },
  {
   "cell_type": "code",
   "execution_count": 6,
   "id": "ea967db8",
   "metadata": {},
   "outputs": [],
   "source": [
    "xVals = xds_wgs.x.isel().values\n",
    "xStart = xVals[0]\n",
    "xStep = (xVals[-1] - xVals[0]) / (len(xVals)-1)\n",
    "\n",
    "yVals = xds_wgs.y.isel().values\n",
    "yStart = yVals[0]\n",
    "yStep = (yVals[-1] - yVals[0]) / (len(yVals)-1)"
   ]
  },
  {
   "cell_type": "code",
   "execution_count": 7,
   "id": "c444d812",
   "metadata": {},
   "outputs": [],
   "source": [
    "e = elevMap.astype('int16')"
   ]
  },
  {
   "cell_type": "code",
   "execution_count": 8,
   "id": "49664172",
   "metadata": {},
   "outputs": [
    {
     "data": {
      "text/plain": [
       "array([[2402, 2403, 2403, ..., 1965, 1966, 1966],\n",
       "       [2401, 2402, 2403, ..., 1966, 1966, 1967],\n",
       "       [2400, 2403, 2403, ..., 1967, 1967, 1968],\n",
       "       ...,\n",
       "       [2795, 2796, 2798, ..., 1588, 1588, 1588],\n",
       "       [2796, 2798, 2799, ..., 1588, 1588, 1588],\n",
       "       [2798, 2798, 2799, ..., 1588, 1588, 1588]], dtype=int16)"
      ]
     },
     "execution_count": 8,
     "metadata": {},
     "output_type": "execute_result"
    }
   ],
   "source": [
    "e"
   ]
  },
  {
   "cell_type": "code",
   "execution_count": 9,
   "id": "39693aad",
   "metadata": {},
   "outputs": [],
   "source": [
    "numSplits = 6"
   ]
  },
  {
   "cell_type": "code",
   "execution_count": 10,
   "id": "e4bcc13b",
   "metadata": {},
   "outputs": [
    {
     "data": {
      "text/plain": [
       "1802"
      ]
     },
     "execution_count": 10,
     "metadata": {},
     "output_type": "execute_result"
    }
   ],
   "source": [
    "perMini = 10812 // numSplits\n",
    "perMini"
   ]
  },
  {
   "cell_type": "code",
   "execution_count": 11,
   "id": "e9e379a3",
   "metadata": {},
   "outputs": [],
   "source": [
    "def split(array, nrows, ncols):\n",
    "    \"\"\"Split a matrix into sub-matrices.\"\"\"\n",
    "    r, h = array.shape\n",
    "    return (array.reshape(h//nrows, nrows, -1, ncols)\n",
    "                 .swapaxes(1, 2)\n",
    "                 .reshape(-1, nrows, ncols))"
   ]
  },
  {
   "cell_type": "code",
   "execution_count": 12,
   "id": "fa14c2fa",
   "metadata": {},
   "outputs": [
    {
     "data": {
      "text/plain": [
       "array([[[2402, 2403, 2403, ..., 2328, 2327, 2327],\n",
       "        [2401, 2402, 2403, ..., 2328, 2328, 2328],\n",
       "        [2400, 2403, 2403, ..., 2328, 2329, 2329],\n",
       "        ...,\n",
       "        [2936, 2935, 2935, ..., 3125, 3125, 3124],\n",
       "        [2935, 2935, 2934, ..., 3125, 3125, 3124],\n",
       "        [2934, 2934, 2934, ..., 3124, 3124, 3123]],\n",
       "\n",
       "       [[2327, 2327, 2327, ..., 2598, 2599, 2600],\n",
       "        [2328, 2327, 2327, ..., 2598, 2599, 2600],\n",
       "        [2328, 2328, 2328, ..., 2598, 2599, 2600],\n",
       "        ...,\n",
       "        [3123, 3123, 3123, ..., 2743, 2745, 2747],\n",
       "        [3123, 3123, 3122, ..., 2748, 2750, 2752],\n",
       "        [3123, 3122, 3122, ..., 2753, 2755, 2758]],\n",
       "\n",
       "       [[2601, 2601, 2602, ..., 2405, 2405, 2405],\n",
       "        [2601, 2602, 2603, ..., 2406, 2406, 2406],\n",
       "        [2601, 2603, 2604, ..., 2407, 2407, 2406],\n",
       "        ...,\n",
       "        [2750, 2752, 2754, ..., 2307, 2306, 2306],\n",
       "        [2755, 2758, 2760, ..., 2306, 2306, 2306],\n",
       "        [2761, 2765, 2766, ..., 2305, 2305, 2305]],\n",
       "\n",
       "       ...,\n",
       "\n",
       "       [[2790, 2789, 2788, ..., 2317, 2316, 2315],\n",
       "        [2790, 2789, 2788, ..., 2318, 2317, 2316],\n",
       "        [2790, 2789, 2788, ..., 2320, 2319, 2317],\n",
       "        ...,\n",
       "        [2594, 2594, 2593, ..., 2102, 2101, 2099],\n",
       "        [2594, 2594, 2593, ..., 2105, 2104, 2104],\n",
       "        [2595, 2594, 2593, ..., 2109, 2109, 2108]],\n",
       "\n",
       "       [[2314, 2312, 2310, ..., 1538, 1539, 1538],\n",
       "        [2314, 2313, 2311, ..., 1539, 1538, 1538],\n",
       "        [2316, 2313, 2311, ..., 1538, 1538, 1538],\n",
       "        ...,\n",
       "        [2097, 2094, 2090, ..., 1636, 1637, 1637],\n",
       "        [2102, 2098, 2095, ..., 1637, 1637, 1638],\n",
       "        [2106, 2103, 2100, ..., 1638, 1638, 1638]],\n",
       "\n",
       "       [[1538, 1537, 1537, ..., 1476, 1476, 1476],\n",
       "        [1538, 1538, 1537, ..., 1476, 1476, 1476],\n",
       "        [1538, 1538, 1537, ..., 1476, 1476, 1476],\n",
       "        ...,\n",
       "        [1637, 1637, 1637, ..., 1588, 1588, 1588],\n",
       "        [1638, 1638, 1638, ..., 1588, 1588, 1588],\n",
       "        [1638, 1639, 1639, ..., 1588, 1588, 1588]]], dtype=int16)"
      ]
     },
     "execution_count": 12,
     "metadata": {},
     "output_type": "execute_result"
    }
   ],
   "source": [
    "m = split(e,perMini,perMini)\n",
    "m"
   ]
  },
  {
   "cell_type": "code",
   "execution_count": 13,
   "id": "e9c86766",
   "metadata": {
    "scrolled": true
   },
   "outputs": [],
   "source": [
    "import json\n",
    "for i,tile in enumerate(m):\n",
    "    x = i%numSplits\n",
    "    y = i//numSplits\n",
    "    listOut = tile.tolist()\n",
    "    d = {\n",
    "        \"x\": x,\n",
    "        \"y\": y,\n",
    "        \"stepX\": xStep,\n",
    "        \"stepY\": yStep,\n",
    "        \"startX\": xStart + xStep * (perMini * x),\n",
    "        \"startY\": yStart + yStep * (perMini * y),\n",
    "        \"vals\": listOut\n",
    "    }\n",
    "    #jsonString = json.dumps(d)\n",
    "    #jsonFile = open(f\"jsonOut2/tile{x}X{y}.json\", \"w\")\n",
    "    #jsonFile.write(jsonString)\n",
    "    #jsonFile.close()"
   ]
  },
  {
   "cell_type": "code",
   "execution_count": 1,
   "id": "04ea4e76",
   "metadata": {},
   "outputs": [],
   "source": [
    "import geohash"
   ]
  },
  {
   "cell_type": "code",
   "execution_count": 3,
   "id": "ce3b4998",
   "metadata": {},
   "outputs": [
    {
     "data": {
      "text/plain": [
       "{'s': 39.7265625, 'w': -105.1171875, 'n': 39.90234375, 'e': -104.765625}"
      ]
     },
     "execution_count": 3,
     "metadata": {},
     "output_type": "execute_result"
    }
   ],
   "source": [
    "geohash.bbox('9xj6')"
   ]
  },
  {
   "cell_type": "code",
   "execution_count": null,
   "id": "ec37aa4d",
   "metadata": {},
   "outputs": [],
   "source": []
  }
 ],
 "metadata": {
  "kernelspec": {
   "display_name": "Python 3 (ipykernel)",
   "language": "python",
   "name": "python3"
  },
  "language_info": {
   "codemirror_mode": {
    "name": "ipython",
    "version": 3
   },
   "file_extension": ".py",
   "mimetype": "text/x-python",
   "name": "python",
   "nbconvert_exporter": "python",
   "pygments_lexer": "ipython3",
   "version": "3.8.10"
  }
 },
 "nbformat": 4,
 "nbformat_minor": 5
}
