{
 "cells": [
  {
   "cell_type": "code",
   "execution_count": 2,
   "id": "d42c1e79",
   "metadata": {},
   "outputs": [],
   "source": [
    "import rioxarray\n",
    "import numpy as np"
   ]
  },
  {
   "cell_type": "code",
   "execution_count": 3,
   "id": "34010614",
   "metadata": {},
   "outputs": [],
   "source": [
    "xds = rioxarray.open_rasterio(\"./dems/larimerAreaDEM.tif\")"
   ]
  },
  {
   "cell_type": "code",
   "execution_count": 4,
   "id": "ab3ff040",
   "metadata": {},
   "outputs": [],
   "source": [
    "xds_wgs = xds.rio.reproject(\"wgs84\")"
   ]
  },
  {
   "cell_type": "code",
   "execution_count": 5,
   "id": "fed4f379",
   "metadata": {},
   "outputs": [
    {
     "data": {
      "text/plain": [
       "(-106.00055555555541, 39.99944444471632, -104.99944444471632, 41.0005555555554)"
      ]
     },
     "execution_count": 5,
     "metadata": {},
     "output_type": "execute_result"
    }
   ],
   "source": [
    "xds_wgs.rio.bounds()"
   ]
  },
  {
   "cell_type": "code",
   "execution_count": 56,
   "id": "1e3e8fd6",
   "metadata": {},
   "outputs": [
    {
     "data": {
      "text/html": [
       "<div><svg style=\"position: absolute; width: 0; height: 0; overflow: hidden\">\n",
       "<defs>\n",
       "<symbol id=\"icon-database\" viewBox=\"0 0 32 32\">\n",
       "<path d=\"M16 0c-8.837 0-16 2.239-16 5v4c0 2.761 7.163 5 16 5s16-2.239 16-5v-4c0-2.761-7.163-5-16-5z\"></path>\n",
       "<path d=\"M16 17c-8.837 0-16-2.239-16-5v6c0 2.761 7.163 5 16 5s16-2.239 16-5v-6c0 2.761-7.163 5-16 5z\"></path>\n",
       "<path d=\"M16 26c-8.837 0-16-2.239-16-5v6c0 2.761 7.163 5 16 5s16-2.239 16-5v-6c0 2.761-7.163 5-16 5z\"></path>\n",
       "</symbol>\n",
       "<symbol id=\"icon-file-text2\" viewBox=\"0 0 32 32\">\n",
       "<path d=\"M28.681 7.159c-0.694-0.947-1.662-2.053-2.724-3.116s-2.169-2.030-3.116-2.724c-1.612-1.182-2.393-1.319-2.841-1.319h-15.5c-1.378 0-2.5 1.121-2.5 2.5v27c0 1.378 1.122 2.5 2.5 2.5h23c1.378 0 2.5-1.122 2.5-2.5v-19.5c0-0.448-0.137-1.23-1.319-2.841zM24.543 5.457c0.959 0.959 1.712 1.825 2.268 2.543h-4.811v-4.811c0.718 0.556 1.584 1.309 2.543 2.268zM28 29.5c0 0.271-0.229 0.5-0.5 0.5h-23c-0.271 0-0.5-0.229-0.5-0.5v-27c0-0.271 0.229-0.5 0.5-0.5 0 0 15.499-0 15.5 0v7c0 0.552 0.448 1 1 1h7v19.5z\"></path>\n",
       "<path d=\"M23 26h-14c-0.552 0-1-0.448-1-1s0.448-1 1-1h14c0.552 0 1 0.448 1 1s-0.448 1-1 1z\"></path>\n",
       "<path d=\"M23 22h-14c-0.552 0-1-0.448-1-1s0.448-1 1-1h14c0.552 0 1 0.448 1 1s-0.448 1-1 1z\"></path>\n",
       "<path d=\"M23 18h-14c-0.552 0-1-0.448-1-1s0.448-1 1-1h14c0.552 0 1 0.448 1 1s-0.448 1-1 1z\"></path>\n",
       "</symbol>\n",
       "</defs>\n",
       "</svg>\n",
       "<style>/* CSS stylesheet for displaying xarray objects in jupyterlab.\n",
       " *\n",
       " */\n",
       "\n",
       ":root {\n",
       "  --xr-font-color0: var(--jp-content-font-color0, rgba(0, 0, 0, 1));\n",
       "  --xr-font-color2: var(--jp-content-font-color2, rgba(0, 0, 0, 0.54));\n",
       "  --xr-font-color3: var(--jp-content-font-color3, rgba(0, 0, 0, 0.38));\n",
       "  --xr-border-color: var(--jp-border-color2, #e0e0e0);\n",
       "  --xr-disabled-color: var(--jp-layout-color3, #bdbdbd);\n",
       "  --xr-background-color: var(--jp-layout-color0, white);\n",
       "  --xr-background-color-row-even: var(--jp-layout-color1, white);\n",
       "  --xr-background-color-row-odd: var(--jp-layout-color2, #eeeeee);\n",
       "}\n",
       "\n",
       "html[theme=dark],\n",
       "body.vscode-dark {\n",
       "  --xr-font-color0: rgba(255, 255, 255, 1);\n",
       "  --xr-font-color2: rgba(255, 255, 255, 0.54);\n",
       "  --xr-font-color3: rgba(255, 255, 255, 0.38);\n",
       "  --xr-border-color: #1F1F1F;\n",
       "  --xr-disabled-color: #515151;\n",
       "  --xr-background-color: #111111;\n",
       "  --xr-background-color-row-even: #111111;\n",
       "  --xr-background-color-row-odd: #313131;\n",
       "}\n",
       "\n",
       ".xr-wrap {\n",
       "  display: block;\n",
       "  min-width: 300px;\n",
       "  max-width: 700px;\n",
       "}\n",
       "\n",
       ".xr-text-repr-fallback {\n",
       "  /* fallback to plain text repr when CSS is not injected (untrusted notebook) */\n",
       "  display: none;\n",
       "}\n",
       "\n",
       ".xr-header {\n",
       "  padding-top: 6px;\n",
       "  padding-bottom: 6px;\n",
       "  margin-bottom: 4px;\n",
       "  border-bottom: solid 1px var(--xr-border-color);\n",
       "}\n",
       "\n",
       ".xr-header > div,\n",
       ".xr-header > ul {\n",
       "  display: inline;\n",
       "  margin-top: 0;\n",
       "  margin-bottom: 0;\n",
       "}\n",
       "\n",
       ".xr-obj-type,\n",
       ".xr-array-name {\n",
       "  margin-left: 2px;\n",
       "  margin-right: 10px;\n",
       "}\n",
       "\n",
       ".xr-obj-type {\n",
       "  color: var(--xr-font-color2);\n",
       "}\n",
       "\n",
       ".xr-sections {\n",
       "  padding-left: 0 !important;\n",
       "  display: grid;\n",
       "  grid-template-columns: 150px auto auto 1fr 20px 20px;\n",
       "}\n",
       "\n",
       ".xr-section-item {\n",
       "  display: contents;\n",
       "}\n",
       "\n",
       ".xr-section-item input {\n",
       "  display: none;\n",
       "}\n",
       "\n",
       ".xr-section-item input + label {\n",
       "  color: var(--xr-disabled-color);\n",
       "}\n",
       "\n",
       ".xr-section-item input:enabled + label {\n",
       "  cursor: pointer;\n",
       "  color: var(--xr-font-color2);\n",
       "}\n",
       "\n",
       ".xr-section-item input:enabled + label:hover {\n",
       "  color: var(--xr-font-color0);\n",
       "}\n",
       "\n",
       ".xr-section-summary {\n",
       "  grid-column: 1;\n",
       "  color: var(--xr-font-color2);\n",
       "  font-weight: 500;\n",
       "}\n",
       "\n",
       ".xr-section-summary > span {\n",
       "  display: inline-block;\n",
       "  padding-left: 0.5em;\n",
       "}\n",
       "\n",
       ".xr-section-summary-in:disabled + label {\n",
       "  color: var(--xr-font-color2);\n",
       "}\n",
       "\n",
       ".xr-section-summary-in + label:before {\n",
       "  display: inline-block;\n",
       "  content: '►';\n",
       "  font-size: 11px;\n",
       "  width: 15px;\n",
       "  text-align: center;\n",
       "}\n",
       "\n",
       ".xr-section-summary-in:disabled + label:before {\n",
       "  color: var(--xr-disabled-color);\n",
       "}\n",
       "\n",
       ".xr-section-summary-in:checked + label:before {\n",
       "  content: '▼';\n",
       "}\n",
       "\n",
       ".xr-section-summary-in:checked + label > span {\n",
       "  display: none;\n",
       "}\n",
       "\n",
       ".xr-section-summary,\n",
       ".xr-section-inline-details {\n",
       "  padding-top: 4px;\n",
       "  padding-bottom: 4px;\n",
       "}\n",
       "\n",
       ".xr-section-inline-details {\n",
       "  grid-column: 2 / -1;\n",
       "}\n",
       "\n",
       ".xr-section-details {\n",
       "  display: none;\n",
       "  grid-column: 1 / -1;\n",
       "  margin-bottom: 5px;\n",
       "}\n",
       "\n",
       ".xr-section-summary-in:checked ~ .xr-section-details {\n",
       "  display: contents;\n",
       "}\n",
       "\n",
       ".xr-array-wrap {\n",
       "  grid-column: 1 / -1;\n",
       "  display: grid;\n",
       "  grid-template-columns: 20px auto;\n",
       "}\n",
       "\n",
       ".xr-array-wrap > label {\n",
       "  grid-column: 1;\n",
       "  vertical-align: top;\n",
       "}\n",
       "\n",
       ".xr-preview {\n",
       "  color: var(--xr-font-color3);\n",
       "}\n",
       "\n",
       ".xr-array-preview,\n",
       ".xr-array-data {\n",
       "  padding: 0 5px !important;\n",
       "  grid-column: 2;\n",
       "}\n",
       "\n",
       ".xr-array-data,\n",
       ".xr-array-in:checked ~ .xr-array-preview {\n",
       "  display: none;\n",
       "}\n",
       "\n",
       ".xr-array-in:checked ~ .xr-array-data,\n",
       ".xr-array-preview {\n",
       "  display: inline-block;\n",
       "}\n",
       "\n",
       ".xr-dim-list {\n",
       "  display: inline-block !important;\n",
       "  list-style: none;\n",
       "  padding: 0 !important;\n",
       "  margin: 0;\n",
       "}\n",
       "\n",
       ".xr-dim-list li {\n",
       "  display: inline-block;\n",
       "  padding: 0;\n",
       "  margin: 0;\n",
       "}\n",
       "\n",
       ".xr-dim-list:before {\n",
       "  content: '(';\n",
       "}\n",
       "\n",
       ".xr-dim-list:after {\n",
       "  content: ')';\n",
       "}\n",
       "\n",
       ".xr-dim-list li:not(:last-child):after {\n",
       "  content: ',';\n",
       "  padding-right: 5px;\n",
       "}\n",
       "\n",
       ".xr-has-index {\n",
       "  font-weight: bold;\n",
       "}\n",
       "\n",
       ".xr-var-list,\n",
       ".xr-var-item {\n",
       "  display: contents;\n",
       "}\n",
       "\n",
       ".xr-var-item > div,\n",
       ".xr-var-item label,\n",
       ".xr-var-item > .xr-var-name span {\n",
       "  background-color: var(--xr-background-color-row-even);\n",
       "  margin-bottom: 0;\n",
       "}\n",
       "\n",
       ".xr-var-item > .xr-var-name:hover span {\n",
       "  padding-right: 5px;\n",
       "}\n",
       "\n",
       ".xr-var-list > li:nth-child(odd) > div,\n",
       ".xr-var-list > li:nth-child(odd) > label,\n",
       ".xr-var-list > li:nth-child(odd) > .xr-var-name span {\n",
       "  background-color: var(--xr-background-color-row-odd);\n",
       "}\n",
       "\n",
       ".xr-var-name {\n",
       "  grid-column: 1;\n",
       "}\n",
       "\n",
       ".xr-var-dims {\n",
       "  grid-column: 2;\n",
       "}\n",
       "\n",
       ".xr-var-dtype {\n",
       "  grid-column: 3;\n",
       "  text-align: right;\n",
       "  color: var(--xr-font-color2);\n",
       "}\n",
       "\n",
       ".xr-var-preview {\n",
       "  grid-column: 4;\n",
       "}\n",
       "\n",
       ".xr-var-name,\n",
       ".xr-var-dims,\n",
       ".xr-var-dtype,\n",
       ".xr-preview,\n",
       ".xr-attrs dt {\n",
       "  white-space: nowrap;\n",
       "  overflow: hidden;\n",
       "  text-overflow: ellipsis;\n",
       "  padding-right: 10px;\n",
       "}\n",
       "\n",
       ".xr-var-name:hover,\n",
       ".xr-var-dims:hover,\n",
       ".xr-var-dtype:hover,\n",
       ".xr-attrs dt:hover {\n",
       "  overflow: visible;\n",
       "  width: auto;\n",
       "  z-index: 1;\n",
       "}\n",
       "\n",
       ".xr-var-attrs,\n",
       ".xr-var-data {\n",
       "  display: none;\n",
       "  background-color: var(--xr-background-color) !important;\n",
       "  padding-bottom: 5px !important;\n",
       "}\n",
       "\n",
       ".xr-var-attrs-in:checked ~ .xr-var-attrs,\n",
       ".xr-var-data-in:checked ~ .xr-var-data {\n",
       "  display: block;\n",
       "}\n",
       "\n",
       ".xr-var-data > table {\n",
       "  float: right;\n",
       "}\n",
       "\n",
       ".xr-var-name span,\n",
       ".xr-var-data,\n",
       ".xr-attrs {\n",
       "  padding-left: 25px !important;\n",
       "}\n",
       "\n",
       ".xr-attrs,\n",
       ".xr-var-attrs,\n",
       ".xr-var-data {\n",
       "  grid-column: 1 / -1;\n",
       "}\n",
       "\n",
       "dl.xr-attrs {\n",
       "  padding: 0;\n",
       "  margin: 0;\n",
       "  display: grid;\n",
       "  grid-template-columns: 125px auto;\n",
       "}\n",
       "\n",
       ".xr-attrs dt,\n",
       ".xr-attrs dd {\n",
       "  padding: 0;\n",
       "  margin: 0;\n",
       "  float: left;\n",
       "  padding-right: 10px;\n",
       "  width: auto;\n",
       "}\n",
       "\n",
       ".xr-attrs dt {\n",
       "  font-weight: normal;\n",
       "  grid-column: 1;\n",
       "}\n",
       "\n",
       ".xr-attrs dt:hover span {\n",
       "  display: inline-block;\n",
       "  background: var(--xr-background-color);\n",
       "  padding-right: 10px;\n",
       "}\n",
       "\n",
       ".xr-attrs dd {\n",
       "  grid-column: 2;\n",
       "  white-space: pre-wrap;\n",
       "  word-break: break-all;\n",
       "}\n",
       "\n",
       ".xr-icon-database,\n",
       ".xr-icon-file-text2 {\n",
       "  display: inline-block;\n",
       "  vertical-align: middle;\n",
       "  width: 1em;\n",
       "  height: 1.5em !important;\n",
       "  stroke-width: 0;\n",
       "  stroke: currentColor;\n",
       "  fill: currentColor;\n",
       "}\n",
       "</style><pre class='xr-text-repr-fallback'>&lt;xarray.DataArray (y: 10812, x: 10812)&gt;\n",
       "array([[2402, 2403, 2403, ..., 1965, 1966, 1966],\n",
       "       [2401, 2402, 2403, ..., 1966, 1966, 1967],\n",
       "       [2400, 2403, 2403, ..., 1967, 1967, 1968],\n",
       "       ...,\n",
       "       [2795, 2796, 2798, ..., 1588, 1588, 1588],\n",
       "       [2796, 2798, 2799, ..., 1588, 1588, 1588],\n",
       "       [2798, 2798, 2799, ..., 1588, 1588, 1588]], dtype=int16)\n",
       "Coordinates:\n",
       "  * x            (x) float64 -106.0 -106.0 -106.0 ... -105.0 -105.0 -105.0\n",
       "  * y            (y) float64 41.0 41.0 41.0 41.0 41.0 ... 40.0 40.0 40.0 40.0\n",
       "    band         int64 1\n",
       "    spatial_ref  int64 0\n",
       "Attributes:\n",
       "    LAYER_TYPE:                athematic\n",
       "    RepresentationType:        ATHEMATIC\n",
       "    STATISTICS_MAXIMUM:        4347.1943359375\n",
       "    STATISTICS_MEAN:           2442.9052512532\n",
       "    STATISTICS_MINIMUM:        1473.9787597656\n",
       "    STATISTICS_STDDEV:         614.85092582736\n",
       "    STATISTICS_VALID_PERCENT:  100\n",
       "    scale_factor:              1.0\n",
       "    add_offset:                0.0\n",
       "    long_name:                 Layer_1\n",
       "    _FillValue:                -999999.0</pre><div class='xr-wrap' hidden><div class='xr-header'><div class='xr-obj-type'>xarray.DataArray</div><div class='xr-array-name'></div><ul class='xr-dim-list'><li><span class='xr-has-index'>y</span>: 10812</li><li><span class='xr-has-index'>x</span>: 10812</li></ul></div><ul class='xr-sections'><li class='xr-section-item'><div class='xr-array-wrap'><input id='section-41741092-478a-4248-b0fc-88fc1bb573a9' class='xr-array-in' type='checkbox' checked><label for='section-41741092-478a-4248-b0fc-88fc1bb573a9' title='Show/hide data repr'><svg class='icon xr-icon-database'><use xlink:href='#icon-database'></use></svg></label><div class='xr-array-preview xr-preview'><span>2402 2403 2403 2403 2403 2403 2399 ... 1588 1588 1588 1588 1588 1588</span></div><div class='xr-array-data'><pre>array([[2402, 2403, 2403, ..., 1965, 1966, 1966],\n",
       "       [2401, 2402, 2403, ..., 1966, 1966, 1967],\n",
       "       [2400, 2403, 2403, ..., 1967, 1967, 1968],\n",
       "       ...,\n",
       "       [2795, 2796, 2798, ..., 1588, 1588, 1588],\n",
       "       [2796, 2798, 2799, ..., 1588, 1588, 1588],\n",
       "       [2798, 2798, 2799, ..., 1588, 1588, 1588]], dtype=int16)</pre></div></div></li><li class='xr-section-item'><input id='section-244e481e-051e-4fc3-b7ab-2e32b7e3e528' class='xr-section-summary-in' type='checkbox'  checked><label for='section-244e481e-051e-4fc3-b7ab-2e32b7e3e528' class='xr-section-summary' >Coordinates: <span>(4)</span></label><div class='xr-section-inline-details'></div><div class='xr-section-details'><ul class='xr-var-list'><li class='xr-var-item'><div class='xr-var-name'><span class='xr-has-index'>x</span></div><div class='xr-var-dims'>(x)</div><div class='xr-var-dtype'>float64</div><div class='xr-var-preview xr-preview'>-106.0 -106.0 ... -105.0 -105.0</div><input id='attrs-67cd2bdb-f8c6-4b29-90c5-5d5e8695c2ef' class='xr-var-attrs-in' type='checkbox' ><label for='attrs-67cd2bdb-f8c6-4b29-90c5-5d5e8695c2ef' title='Show/Hide attributes'><svg class='icon xr-icon-file-text2'><use xlink:href='#icon-file-text2'></use></svg></label><input id='data-1ba96ef0-20a3-4b5e-988a-dc729e9e9477' class='xr-var-data-in' type='checkbox'><label for='data-1ba96ef0-20a3-4b5e-988a-dc729e9e9477' title='Show/Hide data repr'><svg class='icon xr-icon-database'><use xlink:href='#icon-database'></use></svg></label><div class='xr-var-attrs'><dl class='xr-attrs'><dt><span>axis :</span></dt><dd>X</dd><dt><span>long_name :</span></dt><dd>longitude</dd><dt><span>standard_name :</span></dt><dd>longitude</dd><dt><span>units :</span></dt><dd>degrees_east</dd></dl></div><div class='xr-var-data'><pre>array([-106.000509, -106.000417, -106.000324, ..., -104.999676, -104.999583,\n",
       "       -104.999491])</pre></div></li><li class='xr-var-item'><div class='xr-var-name'><span class='xr-has-index'>y</span></div><div class='xr-var-dims'>(y)</div><div class='xr-var-dtype'>float64</div><div class='xr-var-preview xr-preview'>41.0 41.0 41.0 ... 40.0 40.0 40.0</div><input id='attrs-e1e51096-ed78-4a8d-94af-5d76ed430a4c' class='xr-var-attrs-in' type='checkbox' ><label for='attrs-e1e51096-ed78-4a8d-94af-5d76ed430a4c' title='Show/Hide attributes'><svg class='icon xr-icon-file-text2'><use xlink:href='#icon-file-text2'></use></svg></label><input id='data-d298bbcf-021f-4bed-a456-f3fe1fe737e4' class='xr-var-data-in' type='checkbox'><label for='data-d298bbcf-021f-4bed-a456-f3fe1fe737e4' title='Show/Hide data repr'><svg class='icon xr-icon-database'><use xlink:href='#icon-database'></use></svg></label><div class='xr-var-attrs'><dl class='xr-attrs'><dt><span>axis :</span></dt><dd>Y</dd><dt><span>long_name :</span></dt><dd>latitude</dd><dt><span>standard_name :</span></dt><dd>latitude</dd><dt><span>units :</span></dt><dd>degrees_north</dd></dl></div><div class='xr-var-data'><pre>array([41.000509, 41.000417, 41.000324, ..., 39.999676, 39.999583, 39.999491])</pre></div></li><li class='xr-var-item'><div class='xr-var-name'><span>band</span></div><div class='xr-var-dims'>()</div><div class='xr-var-dtype'>int64</div><div class='xr-var-preview xr-preview'>1</div><input id='attrs-3d4f833c-3f06-4c1e-916f-ed0c0125bc1c' class='xr-var-attrs-in' type='checkbox' disabled><label for='attrs-3d4f833c-3f06-4c1e-916f-ed0c0125bc1c' title='Show/Hide attributes'><svg class='icon xr-icon-file-text2'><use xlink:href='#icon-file-text2'></use></svg></label><input id='data-2e42a8a6-f40d-4593-b076-a09c4155af17' class='xr-var-data-in' type='checkbox'><label for='data-2e42a8a6-f40d-4593-b076-a09c4155af17' title='Show/Hide data repr'><svg class='icon xr-icon-database'><use xlink:href='#icon-database'></use></svg></label><div class='xr-var-attrs'><dl class='xr-attrs'></dl></div><div class='xr-var-data'><pre>array(1)</pre></div></li><li class='xr-var-item'><div class='xr-var-name'><span>spatial_ref</span></div><div class='xr-var-dims'>()</div><div class='xr-var-dtype'>int64</div><div class='xr-var-preview xr-preview'>0</div><input id='attrs-d671bb9f-c424-46c9-8510-bfee3553ff1d' class='xr-var-attrs-in' type='checkbox' ><label for='attrs-d671bb9f-c424-46c9-8510-bfee3553ff1d' title='Show/Hide attributes'><svg class='icon xr-icon-file-text2'><use xlink:href='#icon-file-text2'></use></svg></label><input id='data-ff77b07a-1deb-4457-9924-6aa873959213' class='xr-var-data-in' type='checkbox'><label for='data-ff77b07a-1deb-4457-9924-6aa873959213' title='Show/Hide data repr'><svg class='icon xr-icon-database'><use xlink:href='#icon-database'></use></svg></label><div class='xr-var-attrs'><dl class='xr-attrs'><dt><span>crs_wkt :</span></dt><dd>GEOGCS[&quot;WGS 84&quot;,DATUM[&quot;WGS_1984&quot;,SPHEROID[&quot;WGS 84&quot;,6378137,298.257223563,AUTHORITY[&quot;EPSG&quot;,&quot;7030&quot;]],AUTHORITY[&quot;EPSG&quot;,&quot;6326&quot;]],PRIMEM[&quot;Greenwich&quot;,0,AUTHORITY[&quot;EPSG&quot;,&quot;8901&quot;]],UNIT[&quot;degree&quot;,0.0174532925199433,AUTHORITY[&quot;EPSG&quot;,&quot;9122&quot;]],AXIS[&quot;Latitude&quot;,NORTH],AXIS[&quot;Longitude&quot;,EAST],AUTHORITY[&quot;EPSG&quot;,&quot;4326&quot;]]</dd><dt><span>semi_major_axis :</span></dt><dd>6378137.0</dd><dt><span>semi_minor_axis :</span></dt><dd>6356752.314245179</dd><dt><span>inverse_flattening :</span></dt><dd>298.257223563</dd><dt><span>reference_ellipsoid_name :</span></dt><dd>WGS 84</dd><dt><span>longitude_of_prime_meridian :</span></dt><dd>0.0</dd><dt><span>prime_meridian_name :</span></dt><dd>Greenwich</dd><dt><span>geographic_crs_name :</span></dt><dd>WGS 84</dd><dt><span>grid_mapping_name :</span></dt><dd>latitude_longitude</dd><dt><span>spatial_ref :</span></dt><dd>GEOGCS[&quot;WGS 84&quot;,DATUM[&quot;WGS_1984&quot;,SPHEROID[&quot;WGS 84&quot;,6378137,298.257223563,AUTHORITY[&quot;EPSG&quot;,&quot;7030&quot;]],AUTHORITY[&quot;EPSG&quot;,&quot;6326&quot;]],PRIMEM[&quot;Greenwich&quot;,0,AUTHORITY[&quot;EPSG&quot;,&quot;8901&quot;]],UNIT[&quot;degree&quot;,0.0174532925199433,AUTHORITY[&quot;EPSG&quot;,&quot;9122&quot;]],AXIS[&quot;Latitude&quot;,NORTH],AXIS[&quot;Longitude&quot;,EAST],AUTHORITY[&quot;EPSG&quot;,&quot;4326&quot;]]</dd><dt><span>GeoTransform :</span></dt><dd>-106.00055555555541 9.259259256743282e-05 0.0 41.0005555555554 0.0 -9.259259256743282e-05</dd></dl></div><div class='xr-var-data'><pre>array(0)</pre></div></li></ul></div></li><li class='xr-section-item'><input id='section-29fde899-12a4-471d-bae7-e238917cf60a' class='xr-section-summary-in' type='checkbox'  ><label for='section-29fde899-12a4-471d-bae7-e238917cf60a' class='xr-section-summary' >Attributes: <span>(11)</span></label><div class='xr-section-inline-details'></div><div class='xr-section-details'><dl class='xr-attrs'><dt><span>LAYER_TYPE :</span></dt><dd>athematic</dd><dt><span>RepresentationType :</span></dt><dd>ATHEMATIC</dd><dt><span>STATISTICS_MAXIMUM :</span></dt><dd>4347.1943359375</dd><dt><span>STATISTICS_MEAN :</span></dt><dd>2442.9052512532</dd><dt><span>STATISTICS_MINIMUM :</span></dt><dd>1473.9787597656</dd><dt><span>STATISTICS_STDDEV :</span></dt><dd>614.85092582736</dd><dt><span>STATISTICS_VALID_PERCENT :</span></dt><dd>100</dd><dt><span>scale_factor :</span></dt><dd>1.0</dd><dt><span>add_offset :</span></dt><dd>0.0</dd><dt><span>long_name :</span></dt><dd>Layer_1</dd><dt><span>_FillValue :</span></dt><dd>-999999.0</dd></dl></div></li></ul></div></div>"
      ],
      "text/plain": [
       "<xarray.DataArray (y: 10812, x: 10812)>\n",
       "array([[2402, 2403, 2403, ..., 1965, 1966, 1966],\n",
       "       [2401, 2402, 2403, ..., 1966, 1966, 1967],\n",
       "       [2400, 2403, 2403, ..., 1967, 1967, 1968],\n",
       "       ...,\n",
       "       [2795, 2796, 2798, ..., 1588, 1588, 1588],\n",
       "       [2796, 2798, 2799, ..., 1588, 1588, 1588],\n",
       "       [2798, 2798, 2799, ..., 1588, 1588, 1588]], dtype=int16)\n",
       "Coordinates:\n",
       "  * x            (x) float64 -106.0 -106.0 -106.0 ... -105.0 -105.0 -105.0\n",
       "  * y            (y) float64 41.0 41.0 41.0 41.0 41.0 ... 40.0 40.0 40.0 40.0\n",
       "    band         int64 1\n",
       "    spatial_ref  int64 0\n",
       "Attributes:\n",
       "    LAYER_TYPE:                athematic\n",
       "    RepresentationType:        ATHEMATIC\n",
       "    STATISTICS_MAXIMUM:        4347.1943359375\n",
       "    STATISTICS_MEAN:           2442.9052512532\n",
       "    STATISTICS_MINIMUM:        1473.9787597656\n",
       "    STATISTICS_STDDEV:         614.85092582736\n",
       "    STATISTICS_VALID_PERCENT:  100\n",
       "    scale_factor:              1.0\n",
       "    add_offset:                0.0\n",
       "    long_name:                 Layer_1\n",
       "    _FillValue:                -999999.0"
      ]
     },
     "execution_count": 56,
     "metadata": {},
     "output_type": "execute_result"
    }
   ],
   "source": [
    "xds_wgs[0].astype('int16')"
   ]
  },
  {
   "cell_type": "code",
   "execution_count": 6,
   "id": "c9a0d6fa",
   "metadata": {},
   "outputs": [],
   "source": [
    "elevMap = xds_wgs.isel()[0].values"
   ]
  },
  {
   "cell_type": "code",
   "execution_count": 7,
   "id": "ea967db8",
   "metadata": {},
   "outputs": [],
   "source": [
    "xVals = xds_wgs.x.isel().values\n",
    "xStart = xVals[0]\n",
    "xStep = (xVals[-1] - xVals[0]) / (len(xVals)-1)\n",
    "\n",
    "yVals = xds_wgs.y.isel().values\n",
    "yStart = yVals[0]\n",
    "yStep = (yVals[-1] - yVals[0]) / (len(yVals)-1)"
   ]
  },
  {
   "cell_type": "code",
   "execution_count": 8,
   "id": "c444d812",
   "metadata": {},
   "outputs": [],
   "source": [
    "e = elevMap.astype('int16')"
   ]
  },
  {
   "cell_type": "code",
   "execution_count": 9,
   "id": "49664172",
   "metadata": {},
   "outputs": [
    {
     "data": {
      "text/plain": [
       "array([[2402, 2403, 2403, ..., 1965, 1966, 1966],\n",
       "       [2401, 2402, 2403, ..., 1966, 1966, 1967],\n",
       "       [2400, 2403, 2403, ..., 1967, 1967, 1968],\n",
       "       ...,\n",
       "       [2795, 2796, 2798, ..., 1588, 1588, 1588],\n",
       "       [2796, 2798, 2799, ..., 1588, 1588, 1588],\n",
       "       [2798, 2798, 2799, ..., 1588, 1588, 1588]], dtype=int16)"
      ]
     },
     "execution_count": 9,
     "metadata": {},
     "output_type": "execute_result"
    }
   ],
   "source": [
    "e"
   ]
  },
  {
   "cell_type": "code",
   "execution_count": 10,
   "id": "39693aad",
   "metadata": {},
   "outputs": [],
   "source": [
    "geohashLength = 4"
   ]
  },
  {
   "cell_type": "code",
   "execution_count": 11,
   "id": "04ea4e76",
   "metadata": {},
   "outputs": [],
   "source": [
    "import geohash"
   ]
  },
  {
   "cell_type": "code",
   "execution_count": 12,
   "id": "ce3b4998",
   "metadata": {},
   "outputs": [
    {
     "data": {
      "text/plain": [
       "{'s': 39.7265625, 'w': -105.1171875, 'n': 39.90234375, 'e': -104.765625}"
      ]
     },
     "execution_count": 12,
     "metadata": {},
     "output_type": "execute_result"
    }
   ],
   "source": [
    "geohash.bbox('9xj6')"
   ]
  },
  {
   "cell_type": "code",
   "execution_count": 17,
   "id": "ec37aa4d",
   "metadata": {},
   "outputs": [
    {
     "name": "stdout",
     "output_type": "stream",
     "text": [
      "-106.00050925925912 41.00050925925912\n"
     ]
    },
    {
     "data": {
      "text/plain": [
       "'9xk9'"
      ]
     },
     "execution_count": 17,
     "metadata": {},
     "output_type": "execute_result"
    }
   ],
   "source": [
    "print(xStart,yStart)\n",
    "geohash.encode(yStart, xStart, 4)"
   ]
  },
  {
   "cell_type": "code",
   "execution_count": 32,
   "id": "777ee871",
   "metadata": {},
   "outputs": [],
   "source": [
    "def get_geohash_adjacent(gh, direction='e'):\n",
    "    if not direction in 'nsew':\n",
    "        raise Exception(f\"{e} not in 'nsew'. This is not a valid direction\")\n",
    "    neighbors = geohash.neighbors(gh)\n",
    "    m = {\n",
    "        'w': 0,\n",
    "        'e': 1,\n",
    "        's': 2,\n",
    "        'n': 5\n",
    "    }\n",
    "    return neighbors[m[direction]]"
   ]
  },
  {
   "cell_type": "code",
   "execution_count": 33,
   "id": "61424e19",
   "metadata": {},
   "outputs": [
    {
     "data": {
      "text/plain": [
       "'9xj'"
      ]
     },
     "execution_count": 33,
     "metadata": {},
     "output_type": "execute_result"
    }
   ],
   "source": [
    "get_geohash_adjacent('9xh', 'e')"
   ]
  },
  {
   "cell_type": "code",
   "execution_count": 68,
   "id": "578c2a15",
   "metadata": {},
   "outputs": [],
   "source": [
    "tlds = list(map(convert_tld_to_int16_wgs84_simple, [xds]))"
   ]
  },
  {
   "cell_type": "code",
   "execution_count": 95,
   "id": "cab9ea3a",
   "metadata": {},
   "outputs": [],
   "source": [
    "def tld_bounds_and_geohash_bounds_intersect(tld_bounds, gh_bounds):\n",
    "    print(tld_bounds)\n",
    "    if tld_bounds[0] < gh_bounds['w'] < tld_bounds[2] or tld_bounds[0] < gh_bounds['e'] < tld_bounds[2] or tld_bounds[1] < gh_bounds['s'] < tld_bounds[3] or tld_bounds[1] < gh_bounds['n'] < tld_bounds[3]:\n",
    "        return True\n",
    "    return False"
   ]
  },
  {
   "cell_type": "code",
   "execution_count": 96,
   "id": "10556c61",
   "metadata": {},
   "outputs": [],
   "source": [
    "def convert_tld_to_int16_wgs84_simple(tld):\n",
    "    tld_wgs = xds.rio.reproject(\"wgs84\")\n",
    "    return tld_wgs[0].astype('int16')"
   ]
  },
  {
   "cell_type": "code",
   "execution_count": 99,
   "id": "18adda99",
   "metadata": {},
   "outputs": [],
   "source": [
    "def CASE_1(tld, gh_bounds):\n",
    "    pass"
   ]
  },
  {
   "cell_type": "code",
   "execution_count": 97,
   "id": "7f8fbe75",
   "metadata": {},
   "outputs": [],
   "source": [
    "def build_dem_within_geohash(gh, tlds):\n",
    "    gh_bounds = geohash.bbox(gh)\n",
    "    print(gh_bounds)\n",
    "    intersecting_tlds = list(filter(lambda tld: tld_bounds_and_geohash_bounds_intersect(tld.rio.bounds(), gh_bounds), tlds))\n",
    "    if len(intersecting_tlds) == 1: #CASE 1\n",
    "        "
   ]
  },
  {
   "cell_type": "code",
   "execution_count": 98,
   "id": "115f1396",
   "metadata": {},
   "outputs": [
    {
     "name": "stdout",
     "output_type": "stream",
     "text": [
      "{'s': 40.078125, 'w': -106.5234375, 'n': 40.25390625, 'e': -106.171875}\n",
      "(-106.00055555555541, 39.99944444471632, -104.99944444471632, 41.0005555555554)\n",
      "[<xarray.DataArray (y: 10812, x: 10812)>\n",
      "array([[2402, 2403, 2403, ..., 1965, 1966, 1966],\n",
      "       [2401, 2402, 2403, ..., 1966, 1966, 1967],\n",
      "       [2400, 2403, 2403, ..., 1967, 1967, 1968],\n",
      "       ...,\n",
      "       [2795, 2796, 2798, ..., 1588, 1588, 1588],\n",
      "       [2796, 2798, 2799, ..., 1588, 1588, 1588],\n",
      "       [2798, 2798, 2799, ..., 1588, 1588, 1588]], dtype=int16)\n",
      "Coordinates:\n",
      "  * x            (x) float64 -106.0 -106.0 -106.0 ... -105.0 -105.0 -105.0\n",
      "  * y            (y) float64 41.0 41.0 41.0 41.0 41.0 ... 40.0 40.0 40.0 40.0\n",
      "    band         int64 1\n",
      "    spatial_ref  int64 0\n",
      "Attributes:\n",
      "    LAYER_TYPE:                athematic\n",
      "    RepresentationType:        ATHEMATIC\n",
      "    STATISTICS_MAXIMUM:        4347.1943359375\n",
      "    STATISTICS_MEAN:           2442.9052512532\n",
      "    STATISTICS_MINIMUM:        1473.9787597656\n",
      "    STATISTICS_STDDEV:         614.85092582736\n",
      "    STATISTICS_VALID_PERCENT:  100\n",
      "    scale_factor:              1.0\n",
      "    add_offset:                0.0\n",
      "    long_name:                 Layer_1\n",
      "    _FillValue:                -999999.0]\n"
     ]
    }
   ],
   "source": [
    "build_dem_within_geohash('9xhk', tlds)"
   ]
  },
  {
   "cell_type": "code",
   "execution_count": null,
   "id": "61be5588",
   "metadata": {},
   "outputs": [],
   "source": []
  }
 ],
 "metadata": {
  "kernelspec": {
   "display_name": "Python 3 (ipykernel)",
   "language": "python",
   "name": "python3"
  },
  "language_info": {
   "codemirror_mode": {
    "name": "ipython",
    "version": 3
   },
   "file_extension": ".py",
   "mimetype": "text/x-python",
   "name": "python",
   "nbconvert_exporter": "python",
   "pygments_lexer": "ipython3",
   "version": "3.8.10"
  }
 },
 "nbformat": 4,
 "nbformat_minor": 5
}
